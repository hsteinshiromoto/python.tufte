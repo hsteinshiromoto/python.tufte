{
 "cells": [
  {
   "cell_type": "markdown",
   "metadata": {},
   "source": [
    "# Import"
   ]
  },
  {
   "cell_type": "markdown",
   "metadata": {},
   "source": [
    "## Modules"
   ]
  },
  {
   "cell_type": "code",
   "execution_count": 8,
   "metadata": {},
   "outputs": [
    {
     "name": "stdout",
     "output_type": "stream",
     "text": [
      "The autoreload extension is already loaded. To reload it, use:\n",
      "  %reload_ext autoreload\n",
      "The watermark extension is already loaded. To reload it, use:\n",
      "  %reload_ext watermark\n",
      "Last updated: Tue Apr 19 2022\n",
      "\n",
      "Python implementation: CPython\n",
      "Python version       : 3.9.12\n",
      "IPython version      : 8.2.0\n",
      "\n",
      "sys  : 3.9.12 (main, Apr  7 2022, 04:26:46) \n",
      "[GCC 10.2.1 20210110]\n",
      "numpy: 1.22.3\n",
      "\n",
      "Watermark: 2.3.0\n",
      "\n"
     ]
    }
   ],
   "source": [
    "%load_ext autoreload\n",
    "%autoreload 2\n",
    "%load_ext watermark\n",
    "%watermark -n -u -v -iv -w\n",
    "\n",
    "from pathlib import Path\n",
    "import sys\n",
    "import numpy as np"
   ]
  },
  {
   "cell_type": "code",
   "execution_count": 9,
   "metadata": {},
   "outputs": [],
   "source": [
    "ROOT_PATH = Path.cwd().resolve().parent"
   ]
  },
  {
   "cell_type": "code",
   "execution_count": 10,
   "metadata": {},
   "outputs": [],
   "source": [
    "sys.path.append(str(ROOT_PATH))"
   ]
  },
  {
   "cell_type": "markdown",
   "metadata": {},
   "source": [
    "# Line Plot"
   ]
  },
  {
   "cell_type": "code",
   "execution_count": 11,
   "metadata": {},
   "outputs": [],
   "source": [
    "from tufte import line"
   ]
  },
  {
   "cell_type": "code",
   "execution_count": 31,
   "metadata": {},
   "outputs": [
    {
     "name": "stderr",
     "output_type": "stream",
     "text": [
      "/workspaces/python.tufte/tufte/line.py:38: UserWarning: Marker options are being ignored\n",
      "  warnings.warn(\"Marker options are being ignored\")\n"
     ]
    },
    {
     "data": {
      "image/png": "[encoded data removed]",
      "text/plain": [
       "<Figure size 360x360 with 1 Axes>"
      ]
     },
     "metadata": {},
     "output_type": "display_data"
    }
   ],
   "source": [
    "n_samples = 5\n",
    "x = range(n_samples)\n",
    "y = np.random.rand(n_samples, 1)\n",
    "ax = line.main(x=x, y=y, figsize=(5, 5))"
   ]
  },
  {
   "cell_type": "markdown",
   "metadata": {},
   "source": [
    "# Box Plot"
   ]
  },
  {
   "cell_type": "code",
   "execution_count": 32,
   "metadata": {},
   "outputs": [
    {
     "ename": "NameError",
     "evalue": "name 'string' is not defined",
     "output_type": "error",
     "traceback": [
      "\u001b[0;31m---------------------------------------------------------------------------\u001b[0m",
      "\u001b[0;31mNameError\u001b[0m                                 Traceback (most recent call last)",
      "\u001b[1;32m/workspaces/python.tufte/notebooks/plots.ipynb Cell 10'\u001b[0m in \u001b[0;36m<cell line: 6>\u001b[0;34m()\u001b[0m\n\u001b[1;32m      <a href='vscode-notebook-cell://dev-container%2B2f55736572732f68756d626572746f2f50726f6a656374732f707974686f6e2e7475667465/workspaces/python.tufte/notebooks/plots.ipynb#ch0000011vscode-remote?line=2'>3</a>\u001b[0m n_cols \u001b[39m=\u001b[39m \u001b[39m10\u001b[39m \u001b[39m# Must be less than or equal to 26\u001b[39;00m\n\u001b[1;32m      <a href='vscode-notebook-cell://dev-container%2B2f55736572732f68756d626572746f2f50726f6a656374732f707974686f6e2e7475667465/workspaces/python.tufte/notebooks/plots.ipynb#ch0000011vscode-remote?line=3'>4</a>\u001b[0m size \u001b[39m=\u001b[39m \u001b[39m100\u001b[39m\n\u001b[0;32m----> <a href='vscode-notebook-cell://dev-container%2B2f55736572732f68756d626572746f2f50726f6a656374732f707974686f6e2e7475667465/workspaces/python.tufte/notebooks/plots.ipynb#ch0000011vscode-remote?line=5'>6</a>\u001b[0m letters \u001b[39m=\u001b[39m string\u001b[39m.\u001b[39mascii_lowercase\n\u001b[1;32m      <a href='vscode-notebook-cell://dev-container%2B2f55736572732f68756d626572746f2f50726f6a656374732f707974686f6e2e7475667465/workspaces/python.tufte/notebooks/plots.ipynb#ch0000011vscode-remote?line=7'>8</a>\u001b[0m df_dict \u001b[39m=\u001b[39m defaultdict(\u001b[39mlist\u001b[39m)\n\u001b[1;32m      <a href='vscode-notebook-cell://dev-container%2B2f55736572732f68756d626572746f2f50726f6a656374732f707974686f6e2e7475667465/workspaces/python.tufte/notebooks/plots.ipynb#ch0000011vscode-remote?line=8'>9</a>\u001b[0m \u001b[39mfor\u001b[39;00m c \u001b[39min\u001b[39;00m letters[:n_cols]:\n",
      "\u001b[0;31mNameError\u001b[0m: name 'string' is not defined"
     ]
    }
   ],
   "source": [
    "from tufte import box\n",
    "\n",
    "n_samples = 100\n",
    "array = np.random.rand(n_samples, 1)\n",
    "\n",
    "box(df, figsize=(8, 4))"
   ]
  },
  {
   "cell_type": "code",
   "execution_count": null,
   "metadata": {},
   "outputs": [],
   "source": []
  }
 ],
 "metadata": {
  "interpreter": {
   "hash": "751aef38d10038b1c07f6570ac874b544c18b3a1fb31ef6aa09734ee0917b851"
  },
  "kernelspec": {
   "display_name": "Python 3.9.12 ('python.tufte-suDes3Nt-py3.9')",
   "language": "python",
   "name": "python3"
  },
  "language_info": {
   "codemirror_mode": {
    "name": "ipython",
    "version": 3
   },
   "file_extension": ".py",
   "mimetype": "text/x-python",
   "name": "python",
   "nbconvert_exporter": "python",
   "pygments_lexer": "ipython3",
   "version": "3.9.12"
  },
  "orig_nbformat": 4
 },
 "nbformat": 4,
 "nbformat_minor": 2
}
